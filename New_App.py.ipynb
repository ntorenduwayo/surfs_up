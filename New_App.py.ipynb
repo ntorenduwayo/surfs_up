{
 "cells": [
  {
   "cell_type": "code",
   "execution_count": 99,
   "id": "4a85ec57",
   "metadata": {},
   "outputs": [],
   "source": [
    "# Set Up the Flask Weather App\n",
    "##  Import our dependencies\n",
    "import datetime as dt\n",
    "import numpy as np\n",
    "import pandas as pd\n",
    "import sqlalchemy\n",
    "from sqlalchemy.ext.automap import automap_base\n",
    "from sqlalchemy.orm import Session\n",
    "from sqlalchemy import create_engine, func\n",
    "from flask import Flask, jsonify\n"
   ]
  },
  {
   "cell_type": "code",
   "execution_count": 100,
   "id": "16174bac",
   "metadata": {},
   "outputs": [],
   "source": [
    "# Set Up the Database\n",
    "engine = create_engine(\"sqlite:///hawaii.sqlite\")"
   ]
  },
  {
   "cell_type": "code",
   "execution_count": 101,
   "id": "00ae1985",
   "metadata": {},
   "outputs": [],
   "source": [
    "## Reflect the database into our classes:\n",
    "Base = automap_base()\n",
    "Base.prepare(engine, reflect=True)"
   ]
  },
  {
   "cell_type": "code",
   "execution_count": 102,
   "id": "74048d19",
   "metadata": {},
   "outputs": [],
   "source": [
    "## Create a variable for each of the classes so that we can reference them later:\n",
    "Measurement = Base.classes.measurement\n",
    "Station = Base.classes.station"
   ]
  },
  {
   "cell_type": "code",
   "execution_count": 103,
   "id": "85871d16",
   "metadata": {},
   "outputs": [],
   "source": [
    "## Create a session link from Python to our database:\n",
    "session = Session(engine)"
   ]
  },
  {
   "cell_type": "code",
   "execution_count": 104,
   "id": "49205f16",
   "metadata": {},
   "outputs": [],
   "source": [
    "## Set Up Flask\n",
    "app = Flask(__name__)"
   ]
  },
  {
   "cell_type": "code",
   "execution_count": 105,
   "id": "726a69e2",
   "metadata": {},
   "outputs": [],
   "source": [
    "# Create the Welcome Route\n",
    "## Define the welcome route:\n",
    "@app.route(\"/\")\n",
    "## Add the routing information for each of the other routes:\n",
    "def welcome():\n",
    "    return(\n",
    "    '''\n",
    "    Welcome to the Climate Analysis API!\n",
    "    Available Routes:\n",
    "    /api/v1.0/precipitation\n",
    "    /api/v1.0/stations\n",
    "    /api/v1.0/tobs\n",
    "    /api/v1.0/temp/start/end\n",
    "    ''')\n",
    "### Run the code:\n",
    "##if __name__ == \"__main__\":\n",
    "##    app.run()"
   ]
  },
  {
   "cell_type": "code",
   "execution_count": 106,
   "id": "6bd28c13",
   "metadata": {},
   "outputs": [],
   "source": [
    "## Precipitation Route\n",
    "@app.route(\"/api/v1.0/precipitation\")\n",
    "def precipitation():\n",
    "   prev_year = dt.date(2017, 8, 23) - dt.timedelta(days=365)\n",
    "   precipitation = session.query(Measurement.date, Measurement.prcp).\\\n",
    "    filter(Measurement.date >= prev_year).all()\n",
    "   precip = {date: prcp for date, prcp in precipitation}\n",
    "   return jsonify(precip)\n",
    "### Run the code:\n",
    "##if __name__ == \"__main__\":\n",
    "##    app.run()"
   ]
  },
  {
   "cell_type": "code",
   "execution_count": 107,
   "id": "4fb75fcf",
   "metadata": {},
   "outputs": [],
   "source": [
    "## Stations Route:\n",
    "@app.route(\"/api/v1.0/stations\")\n",
    "def stations():\n",
    "    results = session.query(Station.station).all()\n",
    "    stations = list(np.ravel(results))\n",
    "    return jsonify(stations=stations)\n",
    "##if __name__ == \"__main__\":\n",
    "##    app.run()"
   ]
  },
  {
   "cell_type": "code",
   "execution_count": 108,
   "id": "0e6b2887",
   "metadata": {},
   "outputs": [],
   "source": [
    "## Monthly Temperature Route:\n",
    "@app.route(\"/api/v1.0/tobs\")\n",
    "def temp_monthly():\n",
    "    prev_year = dt.date(2017, 8, 23) - dt.timedelta(days=365)\n",
    "    results = session.query(Measurement.tobs).\\\n",
    "      filter(Measurement.station == 'USC00519281').\\\n",
    "      filter(Measurement.date >= prev_year).all()\n",
    "    temps = list(np.ravel(results))\n",
    "    return jsonify(temps=temps)\n",
    "### Run the code:\n",
    "##if __name__ == \"__main__\":\n",
    "##    app.run()"
   ]
  },
  {
   "cell_type": "code",
   "execution_count": 109,
   "id": "e56085cd",
   "metadata": {},
   "outputs": [
    {
     "name": "stdout",
     "output_type": "stream",
     "text": [
      " * Serving Flask app \"__main__\" (lazy loading)\n",
      " * Environment: production\n",
      "\u001b[31m   WARNING: This is a development server. Do not use it in a production deployment.\u001b[0m\n",
      "\u001b[2m   Use a production WSGI server instead.\u001b[0m\n",
      " * Debug mode: off\n"
     ]
    },
    {
     "name": "stderr",
     "output_type": "stream",
     "text": [
      " * Running on http://127.0.0.1:5000/ (Press CTRL+C to quit)\n",
      "127.0.0.1 - - [20/Feb/2022 17:16:17] \"GET / HTTP/1.1\" 200 -\n",
      "127.0.0.1 - - [20/Feb/2022 17:16:26] \"GET /api/v1.0/temp/2017-06-01/2017-06-30 HTTP/1.1\" 200 -\n"
     ]
    }
   ],
   "source": [
    "## Statistics Route\n",
    "@app.route(\"/api/v1.0/temp/<start>\")\n",
    "@app.route(\"/api/v1.0/temp/<start>/<end>\")\n",
    "def stats(start=None, end=None):\n",
    "    sel = [func.min(Measurement.tobs), func.avg(Measurement.tobs), func.max(Measurement.tobs)]\n",
    "\n",
    "    if not end:\n",
    "        results = session.query(*sel).\\\n",
    "            filter(Measurement.date >= start).all()\n",
    "        temps = list(np.ravel(results))\n",
    "        return jsonify(temps)\n",
    "\n",
    "    results = session.query(*sel).\\\n",
    "        filter(Measurement.date >= start).\\\n",
    "        filter(Measurement.date <= end).all()\n",
    "    temps = list(np.ravel(results))\n",
    "    return jsonify(temps)\n",
    "### Run the code:\n",
    "if __name__ == \"__main__\":\n",
    "    app.run()"
   ]
  },
  {
   "cell_type": "code",
   "execution_count": null,
   "id": "a9ed5052",
   "metadata": {},
   "outputs": [],
   "source": []
  }
 ],
 "metadata": {
  "kernelspec": {
   "display_name": "Python 3 (ipykernel)",
   "language": "python",
   "name": "python3"
  },
  "language_info": {
   "codemirror_mode": {
    "name": "ipython",
    "version": 3
   },
   "file_extension": ".py",
   "mimetype": "text/x-python",
   "name": "python",
   "nbconvert_exporter": "python",
   "pygments_lexer": "ipython3",
   "version": "3.9.7"
  }
 },
 "nbformat": 4,
 "nbformat_minor": 5
}
